{
  "nbformat": 4,
  "nbformat_minor": 0,
  "metadata": {
    "colab": {
      "name": "3.4 - Classifying Movie Reviews.ipynb",
      "provenance": [],
      "collapsed_sections": [],
      "authorship_tag": "ABX9TyPLoAr0+RxgLTI4NFxZmNZx",
      "include_colab_link": true
    },
    "kernelspec": {
      "name": "python3",
      "display_name": "Python 3"
    }
  },
  "cells": [
    {
      "cell_type": "markdown",
      "metadata": {
        "id": "view-in-github",
        "colab_type": "text"
      },
      "source": [
        "<a href=\"https://colab.research.google.com/github/Kadakol/Keras/blob/master/3_4_Classifying_Movie_Reviews.ipynb\" target=\"_parent\"><img src=\"https://colab.research.google.com/assets/colab-badge.svg\" alt=\"Open In Colab\"/></a>"
      ]
    },
    {
      "cell_type": "code",
      "metadata": {
        "id": "af13IbHk3nys",
        "colab_type": "code",
        "outputId": "7f94174a-caa0-45bf-df42-241eae1ef804",
        "colab": {
          "base_uri": "https://localhost:8080/",
          "height": 69
        }
      },
      "source": [
        "from keras.datasets import imdb\n",
        "\n",
        "(train_data, train_labels), (test_data, test_labels) = imdb.load_data(num_words=10000)"
      ],
      "execution_count": 1,
      "outputs": [
        {
          "output_type": "stream",
          "text": [
            "Using TensorFlow backend.\n"
          ],
          "name": "stderr"
        },
        {
          "output_type": "stream",
          "text": [
            "Downloading data from https://s3.amazonaws.com/text-datasets/imdb.npz\n",
            "17465344/17464789 [==============================] - 2s 0us/step\n"
          ],
          "name": "stdout"
        }
      ]
    },
    {
      "cell_type": "code",
      "metadata": {
        "id": "mRtNx8RgsqFb",
        "colab_type": "code",
        "outputId": "c068382c-9c02-4450-9262-9b90c70d4641",
        "colab": {
          "base_uri": "https://localhost:8080/",
          "height": 176
        }
      },
      "source": [
        "train_data"
      ],
      "execution_count": 2,
      "outputs": [
        {
          "output_type": "execute_result",
          "data": {
            "text/plain": [
              "array([list([1, 14, 22, 16, 43, 530, 973, 1622, 1385, 65, 458, 4468, 66, 3941, 4, 173, 36, 256, 5, 25, 100, 43, 838, 112, 50, 670, 2, 9, 35, 480, 284, 5, 150, 4, 172, 112, 167, 2, 336, 385, 39, 4, 172, 4536, 1111, 17, 546, 38, 13, 447, 4, 192, 50, 16, 6, 147, 2025, 19, 14, 22, 4, 1920, 4613, 469, 4, 22, 71, 87, 12, 16, 43, 530, 38, 76, 15, 13, 1247, 4, 22, 17, 515, 17, 12, 16, 626, 18, 2, 5, 62, 386, 12, 8, 316, 8, 106, 5, 4, 2223, 5244, 16, 480, 66, 3785, 33, 4, 130, 12, 16, 38, 619, 5, 25, 124, 51, 36, 135, 48, 25, 1415, 33, 6, 22, 12, 215, 28, 77, 52, 5, 14, 407, 16, 82, 2, 8, 4, 107, 117, 5952, 15, 256, 4, 2, 7, 3766, 5, 723, 36, 71, 43, 530, 476, 26, 400, 317, 46, 7, 4, 2, 1029, 13, 104, 88, 4, 381, 15, 297, 98, 32, 2071, 56, 26, 141, 6, 194, 7486, 18, 4, 226, 22, 21, 134, 476, 26, 480, 5, 144, 30, 5535, 18, 51, 36, 28, 224, 92, 25, 104, 4, 226, 65, 16, 38, 1334, 88, 12, 16, 283, 5, 16, 4472, 113, 103, 32, 15, 16, 5345, 19, 178, 32]),\n",
              "       list([1, 194, 1153, 194, 8255, 78, 228, 5, 6, 1463, 4369, 5012, 134, 26, 4, 715, 8, 118, 1634, 14, 394, 20, 13, 119, 954, 189, 102, 5, 207, 110, 3103, 21, 14, 69, 188, 8, 30, 23, 7, 4, 249, 126, 93, 4, 114, 9, 2300, 1523, 5, 647, 4, 116, 9, 35, 8163, 4, 229, 9, 340, 1322, 4, 118, 9, 4, 130, 4901, 19, 4, 1002, 5, 89, 29, 952, 46, 37, 4, 455, 9, 45, 43, 38, 1543, 1905, 398, 4, 1649, 26, 6853, 5, 163, 11, 3215, 2, 4, 1153, 9, 194, 775, 7, 8255, 2, 349, 2637, 148, 605, 2, 8003, 15, 123, 125, 68, 2, 6853, 15, 349, 165, 4362, 98, 5, 4, 228, 9, 43, 2, 1157, 15, 299, 120, 5, 120, 174, 11, 220, 175, 136, 50, 9, 4373, 228, 8255, 5, 2, 656, 245, 2350, 5, 4, 9837, 131, 152, 491, 18, 2, 32, 7464, 1212, 14, 9, 6, 371, 78, 22, 625, 64, 1382, 9, 8, 168, 145, 23, 4, 1690, 15, 16, 4, 1355, 5, 28, 6, 52, 154, 462, 33, 89, 78, 285, 16, 145, 95]),\n",
              "       list([1, 14, 47, 8, 30, 31, 7, 4, 249, 108, 7, 4, 5974, 54, 61, 369, 13, 71, 149, 14, 22, 112, 4, 2401, 311, 12, 16, 3711, 33, 75, 43, 1829, 296, 4, 86, 320, 35, 534, 19, 263, 4821, 1301, 4, 1873, 33, 89, 78, 12, 66, 16, 4, 360, 7, 4, 58, 316, 334, 11, 4, 1716, 43, 645, 662, 8, 257, 85, 1200, 42, 1228, 2578, 83, 68, 3912, 15, 36, 165, 1539, 278, 36, 69, 2, 780, 8, 106, 14, 6905, 1338, 18, 6, 22, 12, 215, 28, 610, 40, 6, 87, 326, 23, 2300, 21, 23, 22, 12, 272, 40, 57, 31, 11, 4, 22, 47, 6, 2307, 51, 9, 170, 23, 595, 116, 595, 1352, 13, 191, 79, 638, 89, 2, 14, 9, 8, 106, 607, 624, 35, 534, 6, 227, 7, 129, 113]),\n",
              "       ...,\n",
              "       list([1, 11, 6, 230, 245, 6401, 9, 6, 1225, 446, 2, 45, 2174, 84, 8322, 4007, 21, 4, 912, 84, 2, 325, 725, 134, 2, 1715, 84, 5, 36, 28, 57, 1099, 21, 8, 140, 8, 703, 5, 2, 84, 56, 18, 1644, 14, 9, 31, 7, 4, 9406, 1209, 2295, 2, 1008, 18, 6, 20, 207, 110, 563, 12, 8, 2901, 2, 8, 97, 6, 20, 53, 4767, 74, 4, 460, 364, 1273, 29, 270, 11, 960, 108, 45, 40, 29, 2961, 395, 11, 6, 4065, 500, 7, 2, 89, 364, 70, 29, 140, 4, 64, 4780, 11, 4, 2678, 26, 178, 4, 529, 443, 2, 5, 27, 710, 117, 2, 8123, 165, 47, 84, 37, 131, 818, 14, 595, 10, 10, 61, 1242, 1209, 10, 10, 288, 2260, 1702, 34, 2901, 2, 4, 65, 496, 4, 231, 7, 790, 5, 6, 320, 234, 2766, 234, 1119, 1574, 7, 496, 4, 139, 929, 2901, 2, 7750, 5, 4241, 18, 4, 8497, 2, 250, 11, 1818, 7561, 4, 4217, 5408, 747, 1115, 372, 1890, 1006, 541, 9303, 7, 4, 59, 2, 4, 3586, 2]),\n",
              "       list([1, 1446, 7079, 69, 72, 3305, 13, 610, 930, 8, 12, 582, 23, 5, 16, 484, 685, 54, 349, 11, 4120, 2959, 45, 58, 1466, 13, 197, 12, 16, 43, 23, 2, 5, 62, 30, 145, 402, 11, 4131, 51, 575, 32, 61, 369, 71, 66, 770, 12, 1054, 75, 100, 2198, 8, 4, 105, 37, 69, 147, 712, 75, 3543, 44, 257, 390, 5, 69, 263, 514, 105, 50, 286, 1814, 23, 4, 123, 13, 161, 40, 5, 421, 4, 116, 16, 897, 13, 2, 40, 319, 5872, 112, 6700, 11, 4803, 121, 25, 70, 3468, 4, 719, 3798, 13, 18, 31, 62, 40, 8, 7200, 4, 2, 7, 14, 123, 5, 942, 25, 8, 721, 12, 145, 5, 202, 12, 160, 580, 202, 12, 6, 52, 58, 2, 92, 401, 728, 12, 39, 14, 251, 8, 15, 251, 5, 2, 12, 38, 84, 80, 124, 12, 9, 23]),\n",
              "       list([1, 17, 6, 194, 337, 7, 4, 204, 22, 45, 254, 8, 106, 14, 123, 4, 2, 270, 2, 5, 2, 2, 732, 2098, 101, 405, 39, 14, 1034, 4, 1310, 9, 115, 50, 305, 12, 47, 4, 168, 5, 235, 7, 38, 111, 699, 102, 7, 4, 4039, 9245, 9, 24, 6, 78, 1099, 17, 2345, 2, 21, 27, 9685, 6139, 5, 2, 1603, 92, 1183, 4, 1310, 7, 4, 204, 42, 97, 90, 35, 221, 109, 29, 127, 27, 118, 8, 97, 12, 157, 21, 6789, 2, 9, 6, 66, 78, 1099, 4, 631, 1191, 5, 2642, 272, 191, 1070, 6, 7585, 8, 2197, 2, 2, 544, 5, 383, 1271, 848, 1468, 2, 497, 2, 8, 1597, 8778, 2, 21, 60, 27, 239, 9, 43, 8368, 209, 405, 10, 10, 12, 764, 40, 4, 248, 20, 12, 16, 5, 174, 1791, 72, 7, 51, 6, 1739, 22, 4, 204, 131, 9])],\n",
              "      dtype=object)"
            ]
          },
          "metadata": {
            "tags": []
          },
          "execution_count": 2
        }
      ]
    },
    {
      "cell_type": "code",
      "metadata": {
        "id": "XzbcuYe5sxoS",
        "colab_type": "code",
        "outputId": "6d32b1c6-b30a-4522-aa68-b770069b0991",
        "colab": {
          "base_uri": "https://localhost:8080/",
          "height": 35
        }
      },
      "source": [
        "train_labels"
      ],
      "execution_count": 3,
      "outputs": [
        {
          "output_type": "execute_result",
          "data": {
            "text/plain": [
              "array([1, 0, 0, ..., 0, 1, 0])"
            ]
          },
          "metadata": {
            "tags": []
          },
          "execution_count": 3
        }
      ]
    },
    {
      "cell_type": "code",
      "metadata": {
        "id": "PoWeM_rCs3TY",
        "colab_type": "code",
        "outputId": "accf5761-e31f-41b3-9af0-1883c0ee5757",
        "colab": {
          "base_uri": "https://localhost:8080/",
          "height": 35
        }
      },
      "source": [
        "max([max(sequence) for sequence in train_data])"
      ],
      "execution_count": 4,
      "outputs": [
        {
          "output_type": "execute_result",
          "data": {
            "text/plain": [
              "9999"
            ]
          },
          "metadata": {
            "tags": []
          },
          "execution_count": 4
        }
      ]
    },
    {
      "cell_type": "code",
      "metadata": {
        "id": "f3t939SytH3x",
        "colab_type": "code",
        "outputId": "58d7a833-50b6-427c-f436-1f67a2bd50b4",
        "colab": {
          "base_uri": "https://localhost:8080/",
          "height": 89
        }
      },
      "source": [
        "word_index = imdb.get_word_index()\n",
        "reverse_word_index = dict((value, key) for (key, value) in word_index.items())\n",
        "decoded_review = ' '.join(reverse_word_index.get(i - 3, '?') for i in train_data[0])\n",
        "\n",
        "decoded_review"
      ],
      "execution_count": 5,
      "outputs": [
        {
          "output_type": "stream",
          "text": [
            "Downloading data from https://s3.amazonaws.com/text-datasets/imdb_word_index.json\n",
            "1646592/1641221 [==============================] - 1s 1us/step\n"
          ],
          "name": "stdout"
        },
        {
          "output_type": "execute_result",
          "data": {
            "text/plain": [
              "\"? this film was just brilliant casting location scenery story direction everyone's really suited the part they played and you could just imagine being there robert ? is an amazing actor and now the same being director ? father came from the same scottish island as myself so i loved the fact there was a real connection with this film the witty remarks throughout the film were great it was just brilliant so much that i bought the film as soon as it was released for ? and would recommend it to everyone to watch and the fly fishing was amazing really cried at the end it was so sad and you know what they say if you cry at a film it must have been good and this definitely was also ? to the two little boy's that played the ? of norman and paul they were just brilliant children are often left out of the ? list i think because the stars that play them all grown up are such a big profile for the whole film but these children are amazing and should be praised for what they have done don't you think the whole story was so lovely because it was true and was someone's life after all that was shared with us all\""
            ]
          },
          "metadata": {
            "tags": []
          },
          "execution_count": 5
        }
      ]
    },
    {
      "cell_type": "code",
      "metadata": {
        "id": "Yb9cEWCFt264",
        "colab_type": "code",
        "colab": {}
      },
      "source": [
        "# encoding the integer sequences into a binary matrix\n",
        "\n",
        "import numpy as np\n",
        "\n",
        "def vectorize_sequences(sequences, dimension=10000):\n",
        "  results = np.zeros((len(sequences), dimension))\n",
        "  for i, sequence in enumerate(sequences):\n",
        "    results[i, sequence] = 1.\n",
        "  return results\n",
        "\n",
        "x_train = vectorize_sequences(train_data)\n",
        "x_test = vectorize_sequences(test_data)"
      ],
      "execution_count": 0,
      "outputs": []
    },
    {
      "cell_type": "code",
      "metadata": {
        "id": "EQjh9Z6JvToo",
        "colab_type": "code",
        "outputId": "c53d3c91-340b-4dfb-c4ad-339cfdd39e81",
        "colab": {
          "base_uri": "https://localhost:8080/",
          "height": 139
        }
      },
      "source": [
        "x_train"
      ],
      "execution_count": 7,
      "outputs": [
        {
          "output_type": "execute_result",
          "data": {
            "text/plain": [
              "array([[0., 1., 1., ..., 0., 0., 0.],\n",
              "       [0., 1., 1., ..., 0., 0., 0.],\n",
              "       [0., 1., 1., ..., 0., 0., 0.],\n",
              "       ...,\n",
              "       [0., 1., 1., ..., 0., 0., 0.],\n",
              "       [0., 1., 1., ..., 0., 0., 0.],\n",
              "       [0., 1., 1., ..., 0., 0., 0.]])"
            ]
          },
          "metadata": {
            "tags": []
          },
          "execution_count": 7
        }
      ]
    },
    {
      "cell_type": "code",
      "metadata": {
        "id": "Bo8ISSVWwPjU",
        "colab_type": "code",
        "colab": {}
      },
      "source": [
        "y_train = np.asarray(train_labels).astype('float32')\n",
        "y_test = np.asarray(test_labels).astype('float32')"
      ],
      "execution_count": 0,
      "outputs": []
    },
    {
      "cell_type": "code",
      "metadata": {
        "id": "RedXOPGEwjLj",
        "colab_type": "code",
        "colab": {}
      },
      "source": [
        "from keras import models, layers\n",
        "\n",
        "model = models.Sequential()\n",
        "\n",
        "model.add(layers.Dense(16, activation='relu', input_shape=(10000,)))\n",
        "model.add(layers.Dense(16, activation='relu'))\n",
        "model.add(layers.Dense(1, activation='sigmoid'))"
      ],
      "execution_count": 0,
      "outputs": []
    },
    {
      "cell_type": "code",
      "metadata": {
        "id": "V1ild5d0zO_q",
        "colab_type": "code",
        "colab": {}
      },
      "source": [
        " model.compile(optimizer='rmsprop', \n",
        "              loss='binary_crossentropy',\n",
        "              metrics=['accuracy'])"
      ],
      "execution_count": 0,
      "outputs": []
    },
    {
      "cell_type": "code",
      "metadata": {
        "id": "lHWUmSj6zwSf",
        "colab_type": "code",
        "colab": {}
      },
      "source": [
        "from keras import optimizers, losses, metrics\n",
        "\n",
        "model.compile(optimizer=optimizers.RMSprop(lr=0.001),\n",
        "              loss=losses.binary_crossentropy,\n",
        "              metrics=[metrics.binary_accuracy])"
      ],
      "execution_count": 0,
      "outputs": []
    },
    {
      "cell_type": "code",
      "metadata": {
        "id": "iTnHdkos0pFA",
        "colab_type": "code",
        "colab": {}
      },
      "source": [
        "x_val = x_train[:10000]\n",
        "partial_x_train = x_train[10000:]\n",
        "\n",
        "y_val = y_train[:10000]\n",
        "partial_y_train = y_train[10000:]"
      ],
      "execution_count": 0,
      "outputs": []
    },
    {
      "cell_type": "code",
      "metadata": {
        "id": "qv7sGBFU1N-q",
        "colab_type": "code",
        "outputId": "37b490ac-0f5e-40ee-8626-a07318e85f4f",
        "colab": {
          "base_uri": "https://localhost:8080/",
          "height": 728
        }
      },
      "source": [
        "model.compile(optimizer='rmsprop',\n",
        "              loss='binary_crossentropy',\n",
        "              metrics=['acc'])\n",
        "\n",
        "history = model.fit(partial_x_train,\n",
        "                    partial_y_train,\n",
        "                    epochs=20,\n",
        "                    batch_size=512,\n",
        "                    validation_data=[x_val, y_val])"
      ],
      "execution_count": 13,
      "outputs": [
        {
          "output_type": "stream",
          "text": [
            "Train on 15000 samples, validate on 10000 samples\n",
            "Epoch 1/20\n",
            "15000/15000 [==============================] - 2s 109us/step - loss: 0.5486 - acc: 0.7791 - val_loss: 0.4266 - val_acc: 0.8635\n",
            "Epoch 2/20\n",
            "15000/15000 [==============================] - 1s 89us/step - loss: 0.3413 - acc: 0.8982 - val_loss: 0.3229 - val_acc: 0.8846\n",
            "Epoch 3/20\n",
            "15000/15000 [==============================] - 1s 90us/step - loss: 0.2450 - acc: 0.9219 - val_loss: 0.2947 - val_acc: 0.8857\n",
            "Epoch 4/20\n",
            "15000/15000 [==============================] - 1s 88us/step - loss: 0.1926 - acc: 0.9355 - val_loss: 0.2731 - val_acc: 0.8909\n",
            "Epoch 5/20\n",
            "15000/15000 [==============================] - 1s 88us/step - loss: 0.1538 - acc: 0.9505 - val_loss: 0.2751 - val_acc: 0.8904\n",
            "Epoch 6/20\n",
            "15000/15000 [==============================] - 1s 89us/step - loss: 0.1279 - acc: 0.9600 - val_loss: 0.3012 - val_acc: 0.8837\n",
            "Epoch 7/20\n",
            "15000/15000 [==============================] - 1s 90us/step - loss: 0.1042 - acc: 0.9701 - val_loss: 0.3001 - val_acc: 0.8844\n",
            "Epoch 8/20\n",
            "15000/15000 [==============================] - 1s 87us/step - loss: 0.0871 - acc: 0.9743 - val_loss: 0.3354 - val_acc: 0.8769\n",
            "Epoch 9/20\n",
            "15000/15000 [==============================] - 1s 89us/step - loss: 0.0740 - acc: 0.9791 - val_loss: 0.3414 - val_acc: 0.8804\n",
            "Epoch 10/20\n",
            "15000/15000 [==============================] - 1s 89us/step - loss: 0.0592 - acc: 0.9853 - val_loss: 0.3674 - val_acc: 0.8802\n",
            "Epoch 11/20\n",
            "15000/15000 [==============================] - 1s 88us/step - loss: 0.0495 - acc: 0.9877 - val_loss: 0.3954 - val_acc: 0.8779\n",
            "Epoch 12/20\n",
            "15000/15000 [==============================] - 1s 89us/step - loss: 0.0397 - acc: 0.9908 - val_loss: 0.4295 - val_acc: 0.8754\n",
            "Epoch 13/20\n",
            "15000/15000 [==============================] - 1s 89us/step - loss: 0.0326 - acc: 0.9929 - val_loss: 0.4692 - val_acc: 0.8722\n",
            "Epoch 14/20\n",
            "15000/15000 [==============================] - 1s 89us/step - loss: 0.0259 - acc: 0.9953 - val_loss: 0.5414 - val_acc: 0.8611\n",
            "Epoch 15/20\n",
            "15000/15000 [==============================] - 1s 90us/step - loss: 0.0206 - acc: 0.9965 - val_loss: 0.5140 - val_acc: 0.8694\n",
            "Epoch 16/20\n",
            "15000/15000 [==============================] - 1s 91us/step - loss: 0.0149 - acc: 0.9981 - val_loss: 0.5526 - val_acc: 0.8691\n",
            "Epoch 17/20\n",
            "15000/15000 [==============================] - 1s 89us/step - loss: 0.0123 - acc: 0.9989 - val_loss: 0.5935 - val_acc: 0.8698\n",
            "Epoch 18/20\n",
            "15000/15000 [==============================] - 1s 89us/step - loss: 0.0104 - acc: 0.9987 - val_loss: 0.6258 - val_acc: 0.8675\n",
            "Epoch 19/20\n",
            "15000/15000 [==============================] - 1s 88us/step - loss: 0.0056 - acc: 0.9998 - val_loss: 0.6845 - val_acc: 0.8631\n",
            "Epoch 20/20\n",
            "15000/15000 [==============================] - 1s 86us/step - loss: 0.0065 - acc: 0.9991 - val_loss: 0.6968 - val_acc: 0.8666\n"
          ],
          "name": "stdout"
        }
      ]
    },
    {
      "cell_type": "code",
      "metadata": {
        "id": "6fNw9TNh1r6F",
        "colab_type": "code",
        "outputId": "6af64c64-fdeb-4e23-b35a-344c6648e5b4",
        "colab": {
          "base_uri": "https://localhost:8080/",
          "height": 35
        }
      },
      "source": [
        "history_dict = history.history\n",
        "history_dict.keys()"
      ],
      "execution_count": 14,
      "outputs": [
        {
          "output_type": "execute_result",
          "data": {
            "text/plain": [
              "dict_keys(['val_loss', 'val_acc', 'loss', 'acc'])"
            ]
          },
          "metadata": {
            "tags": []
          },
          "execution_count": 14
        }
      ]
    },
    {
      "cell_type": "code",
      "metadata": {
        "id": "2KO5NPyH2AJM",
        "colab_type": "code",
        "colab": {
          "base_uri": "https://localhost:8080/",
          "height": 295
        },
        "outputId": "ce0655b7-7c28-4e14-a10d-1297636e3bdc"
      },
      "source": [
        "import matplotlib.pyplot as plt\n",
        "\n",
        "loss_values = history_dict ['loss']\n",
        "val_loss_values = history_dict['val_loss']\n",
        "\n",
        "epochs = range(1, len(loss_values) + 1)\n",
        "\n",
        "plt.plot(epochs, loss_values, 'bo', label='Training Loss')\n",
        "plt.plot(epochs, val_loss_values, 'b', label='Validation Loss')\n",
        "plt.title('Training and Validation Loss')\n",
        "plt.xlabel('Epochs')\n",
        "plt.ylabel('Loss')\n",
        "plt.legend()\n",
        "\n",
        "plt.show()"
      ],
      "execution_count": 16,
      "outputs": [
        {
          "output_type": "display_data",
          "data": {
            "image/png": "[encoded data removed]",
            "text/plain": [
              "<Figure size 432x288 with 1 Axes>"
            ]
          },
          "metadata": {
            "tags": [],
            "needs_background": "light"
          }
        }
      ]
    },
    {
      "cell_type": "code",
      "metadata": {
        "id": "WgfxYUUiMu55",
        "colab_type": "code",
        "colab": {
          "base_uri": "https://localhost:8080/",
          "height": 295
        },
        "outputId": "fd6cc8ea-1924-4056-cff1-9f3bd7b00b07"
      },
      "source": [
        "plt.clf()\n",
        "\n",
        "acc_values = history_dict['acc']\n",
        "val_acc_values = history_dict['val_acc']\n",
        "\n",
        "plt.plot(epochs, acc_values, 'bo', label='Training Accuracy')\n",
        "plt.plot(epochs, val_acc_values, 'b', label='Validation Accuracy')\n",
        "plt.title('Training and Validation Accuracy')\n",
        "plt.xlabel('Epochs')\n",
        "plt.ylabel('Accuracy')\n",
        "plt.legend()\n",
        "\n",
        "plt.show()"
      ],
      "execution_count": 20,
      "outputs": [
        {
          "output_type": "display_data",
          "data": {
            "image/png": "[encoded data removed]",
            "text/plain": [
              "<Figure size 432x288 with 1 Axes>"
            ]
          },
          "metadata": {
            "tags": [],
            "needs_background": "light"
          }
        }
      ]
    },
    {
      "cell_type": "code",
      "metadata": {
        "id": "WgB80Pj6NaPY",
        "colab_type": "code",
        "colab": {
          "base_uri": "https://localhost:8080/",
          "height": 191
        },
        "outputId": "755208d4-6ef4-42fb-b0f0-38dddcc95aad"
      },
      "source": [
        "model = models.Sequential()\n",
        "\n",
        "model.add(layers.Dense(16, activation='relu', input_shape=(10000,)))\n",
        "model.add(layers.Dense(16, activation='relu'))\n",
        "model.add(layers.Dense(1, activation='sigmoid'))\n",
        "\n",
        "model.compile(optimizer='rmsprop',\n",
        "              loss='binary_crossentropy',\n",
        "              metrics=['accuracy'])\n",
        "\n",
        "model.fit(partial_x_train,\n",
        "          partial_y_train,\n",
        "          epochs=4,\n",
        "          batch_size=512)\n",
        "\n",
        "results = model.evaluate(x_test, y_test)\n",
        "\n",
        "print(results)"
      ],
      "execution_count": 21,
      "outputs": [
        {
          "output_type": "stream",
          "text": [
            "Epoch 1/4\n",
            "15000/15000 [==============================] - 1s 73us/step - loss: 0.5266 - accuracy: 0.7798\n",
            "Epoch 2/4\n",
            "15000/15000 [==============================] - 1s 67us/step - loss: 0.3108 - accuracy: 0.9031\n",
            "Epoch 3/4\n",
            "15000/15000 [==============================] - 1s 68us/step - loss: 0.2250 - accuracy: 0.9249\n",
            "Epoch 4/4\n",
            "15000/15000 [==============================] - 1s 67us/step - loss: 0.1685 - accuracy: 0.9459\n",
            "25000/25000 [==============================] - 2s 65us/step\n",
            "[0.29176793919563293, 0.88264000415802]\n"
          ],
          "name": "stdout"
        }
      ]
    },
    {
      "cell_type": "code",
      "metadata": {
        "id": "GUQktoyyTWIs",
        "colab_type": "code",
        "colab": {
          "base_uri": "https://localhost:8080/",
          "height": 139
        },
        "outputId": "2daf9617-5145-4f26-b5ba-ea44ac334352"
      },
      "source": [
        "model.predict(x_test)"
      ],
      "execution_count": 22,
      "outputs": [
        {
          "output_type": "execute_result",
          "data": {
            "text/plain": [
              "array([[0.22820055],\n",
              "       [0.9995314 ],\n",
              "       [0.9401765 ],\n",
              "       ...,\n",
              "       [0.09641659],\n",
              "       [0.13985258],\n",
              "       [0.7076662 ]], dtype=float32)"
            ]
          },
          "metadata": {
            "tags": []
          },
          "execution_count": 22
        }
      ]
    },
    {
      "cell_type": "code",
      "metadata": {
        "id": "4spIxDe9TdzF",
        "colab_type": "code",
        "colab": {
          "base_uri": "https://localhost:8080/",
          "height": 993
        },
        "outputId": "ab83b152-84f4-4b5c-cc80-522d7571e258"
      },
      "source": [
        "model = models.Sequential()\n",
        "\n",
        "model.add(layers.Dense(16, activation='relu', input_shape=(10000,)))\n",
        "model.add(layers.Dense(1, activation='sigmoid'))\n",
        "\n",
        "model.compile(optimizer='rmsprop',\n",
        "              loss='binary_crossentropy',\n",
        "              metrics=['acc'])\n",
        "\n",
        "history = model.fit(partial_x_train,\n",
        "                    partial_y_train,\n",
        "                    epochs=20,\n",
        "                    batch_size=512,\n",
        "                    validation_data=[x_val, y_val])\n",
        "\n",
        "history_dict = history.history\n",
        "print(history_dict.keys())\n",
        "\n",
        "plt.clf()\n",
        "\n",
        "epochs = range(1, len(history_dict['acc']) + 1)\n",
        "\n",
        "plt.plot(epochs, history_dict['acc'], 'bo', label='Training Accuracy')\n",
        "plt.plot(epochs, history_dict['val_acc'], 'b', label='Validation Accuracy')\n",
        "plt.plot(epochs, history_dict['loss'], 'ro', label='Training Loss')\n",
        "plt.plot(epochs, history_dict['val_loss'], 'r', label='Validation Loss')\n",
        "\n",
        "plt.legend()\n",
        "plt.show()"
      ],
      "execution_count": 27,
      "outputs": [
        {
          "output_type": "stream",
          "text": [
            "Train on 15000 samples, validate on 10000 samples\n",
            "Epoch 1/20\n",
            "15000/15000 [==============================] - 2s 125us/step - loss: 0.4891 - acc: 0.8129 - val_loss: 0.4131 - val_acc: 0.8383\n",
            "Epoch 2/20\n",
            "15000/15000 [==============================] - 1s 94us/step - loss: 0.3165 - acc: 0.9039 - val_loss: 0.3198 - val_acc: 0.8859\n",
            "Epoch 3/20\n",
            "15000/15000 [==============================] - 1s 93us/step - loss: 0.2467 - acc: 0.9237 - val_loss: 0.2972 - val_acc: 0.8872\n",
            "Epoch 4/20\n",
            "15000/15000 [==============================] - 1s 96us/step - loss: 0.2034 - acc: 0.9387 - val_loss: 0.2796 - val_acc: 0.8907\n",
            "Epoch 5/20\n",
            "15000/15000 [==============================] - 1s 94us/step - loss: 0.1729 - acc: 0.9476 - val_loss: 0.2787 - val_acc: 0.8893\n",
            "Epoch 6/20\n",
            "15000/15000 [==============================] - 1s 95us/step - loss: 0.1485 - acc: 0.9565 - val_loss: 0.2754 - val_acc: 0.8892\n",
            "Epoch 7/20\n",
            "15000/15000 [==============================] - 1s 96us/step - loss: 0.1301 - acc: 0.9618 - val_loss: 0.2944 - val_acc: 0.8840\n",
            "Epoch 8/20\n",
            "15000/15000 [==============================] - 1s 94us/step - loss: 0.1147 - acc: 0.9669 - val_loss: 0.2927 - val_acc: 0.8865\n",
            "Epoch 9/20\n",
            "15000/15000 [==============================] - 1s 94us/step - loss: 0.1017 - acc: 0.9719 - val_loss: 0.2969 - val_acc: 0.8842\n",
            "Epoch 10/20\n",
            "15000/15000 [==============================] - 1s 95us/step - loss: 0.0905 - acc: 0.9766 - val_loss: 0.3112 - val_acc: 0.8836\n",
            "Epoch 11/20\n",
            "15000/15000 [==============================] - 1s 95us/step - loss: 0.0797 - acc: 0.9803 - val_loss: 0.3208 - val_acc: 0.8802\n",
            "Epoch 12/20\n",
            "15000/15000 [==============================] - 1s 94us/step - loss: 0.0713 - acc: 0.9831 - val_loss: 0.3328 - val_acc: 0.8798\n",
            "Epoch 13/20\n",
            "15000/15000 [==============================] - 1s 95us/step - loss: 0.0629 - acc: 0.9855 - val_loss: 0.3556 - val_acc: 0.8793\n",
            "Epoch 14/20\n",
            "15000/15000 [==============================] - 1s 94us/step - loss: 0.0559 - acc: 0.9883 - val_loss: 0.3593 - val_acc: 0.8799\n",
            "Epoch 15/20\n",
            "15000/15000 [==============================] - 1s 94us/step - loss: 0.0491 - acc: 0.9906 - val_loss: 0.3837 - val_acc: 0.8716\n",
            "Epoch 16/20\n",
            "15000/15000 [==============================] - 1s 93us/step - loss: 0.0442 - acc: 0.9919 - val_loss: 0.3922 - val_acc: 0.8773\n",
            "Epoch 17/20\n",
            "15000/15000 [==============================] - 1s 94us/step - loss: 0.0380 - acc: 0.9936 - val_loss: 0.4181 - val_acc: 0.8759\n",
            "Epoch 18/20\n",
            "15000/15000 [==============================] - 1s 93us/step - loss: 0.0342 - acc: 0.9947 - val_loss: 0.4329 - val_acc: 0.8708\n",
            "Epoch 19/20\n",
            "15000/15000 [==============================] - 1s 95us/step - loss: 0.0297 - acc: 0.9957 - val_loss: 0.4477 - val_acc: 0.8730\n",
            "Epoch 20/20\n",
            "15000/15000 [==============================] - 1s 95us/step - loss: 0.0265 - acc: 0.9966 - val_loss: 0.4683 - val_acc: 0.8695\n",
            "dict_keys(['val_loss', 'val_acc', 'loss', 'acc'])\n"
          ],
          "name": "stdout"
        },
        {
          "output_type": "display_data",
          "data": {
            "image/png": "[encoded data removed]",
            "text/plain": [
              "<Figure size 432x288 with 1 Axes>"
            ]
          },
          "metadata": {
            "tags": [],
            "needs_background": "light"
          }
        }
      ]
    },
    {
      "cell_type": "code",
      "metadata": {
        "id": "DH01fxZoVtSN",
        "colab_type": "code",
        "colab": {
          "base_uri": "https://localhost:8080/",
          "height": 993
        },
        "outputId": "97fdb31a-ca3e-48cc-bff8-2182488d308e"
      },
      "source": [
        "model = models.Sequential()\n",
        "\n",
        "model.add(layers.Dense(16, activation='relu', input_shape=(10000,)))\n",
        "model.add(layers.Dense(16, activation='relu'))\n",
        "model.add(layers.Dense(16, activation='relu'))\n",
        "model.add(layers.Dense(1, activation='sigmoid'))\n",
        "\n",
        "model.compile(optimizer='rmsprop',\n",
        "              loss='binary_crossentropy',\n",
        "              metrics=['acc'])\n",
        "\n",
        "history = model.fit(partial_x_train,\n",
        "                    partial_y_train,\n",
        "                    epochs=20,\n",
        "                    batch_size=512,\n",
        "                    validation_data=[x_val, y_val])\n",
        "\n",
        "history_dict = history.history\n",
        "print(history_dict.keys())\n",
        "\n",
        "plt.clf()\n",
        "\n",
        "epochs = range(1, len(history_dict['acc']) + 1)\n",
        "\n",
        "plt.plot(epochs, history_dict['acc'], 'bo', label='Training Accuracy')\n",
        "plt.plot(epochs, history_dict['val_acc'], 'b', label='Validation Accuracy')\n",
        "plt.plot(epochs, history_dict['loss'], 'ro', label='Training Loss')\n",
        "plt.plot(epochs, history_dict['val_loss'], 'r', label='Validation Loss')\n",
        "\n",
        "plt.legend()\n",
        "plt.show()"
      ],
      "execution_count": 28,
      "outputs": [
        {
          "output_type": "stream",
          "text": [
            "Train on 15000 samples, validate on 10000 samples\n",
            "Epoch 1/20\n",
            "15000/15000 [==============================] - 2s 157us/step - loss: 0.5257 - acc: 0.7686 - val_loss: 0.3768 - val_acc: 0.8747\n",
            "Epoch 2/20\n",
            "15000/15000 [==============================] - 1s 94us/step - loss: 0.3005 - acc: 0.8993 - val_loss: 0.3228 - val_acc: 0.8746\n",
            "Epoch 3/20\n",
            "15000/15000 [==============================] - 1s 95us/step - loss: 0.2166 - acc: 0.9277 - val_loss: 0.2760 - val_acc: 0.8891\n",
            "Epoch 4/20\n",
            "15000/15000 [==============================] - 1s 94us/step - loss: 0.1649 - acc: 0.9452 - val_loss: 0.2830 - val_acc: 0.8860\n",
            "Epoch 5/20\n",
            "15000/15000 [==============================] - 1s 95us/step - loss: 0.1340 - acc: 0.9565 - val_loss: 0.3035 - val_acc: 0.8825\n",
            "Epoch 6/20\n",
            "15000/15000 [==============================] - 1s 94us/step - loss: 0.1042 - acc: 0.9678 - val_loss: 0.3573 - val_acc: 0.8729\n",
            "Epoch 7/20\n",
            "15000/15000 [==============================] - 1s 96us/step - loss: 0.0836 - acc: 0.9736 - val_loss: 0.3348 - val_acc: 0.8790\n",
            "Epoch 8/20\n",
            "15000/15000 [==============================] - 1s 94us/step - loss: 0.0672 - acc: 0.9797 - val_loss: 0.3626 - val_acc: 0.8799\n",
            "Epoch 9/20\n",
            "15000/15000 [==============================] - 1s 94us/step - loss: 0.0527 - acc: 0.9852 - val_loss: 0.3880 - val_acc: 0.8784\n",
            "Epoch 10/20\n",
            "15000/15000 [==============================] - 1s 94us/step - loss: 0.0402 - acc: 0.9902 - val_loss: 0.4221 - val_acc: 0.8768\n",
            "Epoch 11/20\n",
            "15000/15000 [==============================] - 1s 95us/step - loss: 0.0292 - acc: 0.9931 - val_loss: 0.4500 - val_acc: 0.8753\n",
            "Epoch 12/20\n",
            "15000/15000 [==============================] - 1s 95us/step - loss: 0.0228 - acc: 0.9949 - val_loss: 0.4842 - val_acc: 0.8751\n",
            "Epoch 13/20\n",
            "15000/15000 [==============================] - 1s 95us/step - loss: 0.0174 - acc: 0.9959 - val_loss: 0.5226 - val_acc: 0.8718\n",
            "Epoch 14/20\n",
            "15000/15000 [==============================] - 1s 94us/step - loss: 0.0070 - acc: 0.9997 - val_loss: 0.7910 - val_acc: 0.8367\n",
            "Epoch 15/20\n",
            "15000/15000 [==============================] - 1s 95us/step - loss: 0.0116 - acc: 0.9971 - val_loss: 0.6145 - val_acc: 0.8711\n",
            "Epoch 16/20\n",
            "15000/15000 [==============================] - 1s 94us/step - loss: 0.0175 - acc: 0.9955 - val_loss: 0.6479 - val_acc: 0.8696\n",
            "Epoch 17/20\n",
            "15000/15000 [==============================] - 1s 93us/step - loss: 0.0023 - acc: 0.9999 - val_loss: 0.6727 - val_acc: 0.8711\n",
            "Epoch 18/20\n",
            "15000/15000 [==============================] - 1s 94us/step - loss: 0.0111 - acc: 0.9965 - val_loss: 0.7130 - val_acc: 0.8688\n",
            "Epoch 19/20\n",
            "15000/15000 [==============================] - 1s 93us/step - loss: 0.0013 - acc: 0.9999 - val_loss: 0.7308 - val_acc: 0.8706\n",
            "Epoch 20/20\n",
            "15000/15000 [==============================] - 1s 94us/step - loss: 0.0010 - acc: 0.9999 - val_loss: 0.7704 - val_acc: 0.8688\n",
            "dict_keys(['val_loss', 'val_acc', 'loss', 'acc'])\n"
          ],
          "name": "stdout"
        },
        {
          "output_type": "display_data",
          "data": {
            "image/png": "[encoded data removed]",
            "text/plain": [
              "<Figure size 432x288 with 1 Axes>"
            ]
          },
          "metadata": {
            "tags": [],
            "needs_background": "light"
          }
        }
      ]
    },
    {
      "cell_type": "code",
      "metadata": {
        "id": "8THaWhPoaOr5",
        "colab_type": "code",
        "colab": {
          "base_uri": "https://localhost:8080/",
          "height": 993
        },
        "outputId": "20029166-6156-49b0-c18d-108635c3600c"
      },
      "source": [
        "model = models.Sequential()\n",
        "\n",
        "model.add(layers.Dense(32, activation='relu', input_shape=(10000,)))\n",
        "model.add(layers.Dense(32, activation='relu'))\n",
        "model.add(layers.Dense(1, activation='sigmoid'))\n",
        "\n",
        "model.compile(optimizer='rmsprop',\n",
        "              loss='binary_crossentropy',\n",
        "              metrics=['acc'])\n",
        "\n",
        "history = model.fit(partial_x_train,\n",
        "                    partial_y_train,\n",
        "                    epochs=20,\n",
        "                    batch_size=512,\n",
        "                    validation_data=[x_val, y_val])\n",
        "\n",
        "history_dict = history.history\n",
        "print(history_dict.keys())\n",
        "\n",
        "plt.clf()\n",
        "\n",
        "epochs = range(1, len(history_dict['acc']) + 1)\n",
        "\n",
        "plt.plot(epochs, history_dict['acc'], 'bo', label='Training Accuracy')\n",
        "plt.plot(epochs, history_dict['val_acc'], 'b', label='Validation Accuracy')\n",
        "plt.plot(epochs, history_dict['loss'], 'ro', label='Training Loss')\n",
        "plt.plot(epochs, history_dict['val_loss'], 'r', label='Validation Loss')\n",
        "\n",
        "plt.legend()\n",
        "plt.show()"
      ],
      "execution_count": 29,
      "outputs": [
        {
          "output_type": "stream",
          "text": [
            "Train on 15000 samples, validate on 10000 samples\n",
            "Epoch 1/20\n",
            "15000/15000 [==============================] - 2s 118us/step - loss: 0.5199 - acc: 0.7882 - val_loss: 0.3969 - val_acc: 0.8608\n",
            "Epoch 2/20\n",
            "15000/15000 [==============================] - 2s 107us/step - loss: 0.3016 - acc: 0.9024 - val_loss: 0.3125 - val_acc: 0.8794\n",
            "Epoch 3/20\n",
            "15000/15000 [==============================] - 2s 109us/step - loss: 0.2135 - acc: 0.9293 - val_loss: 0.2937 - val_acc: 0.8838\n",
            "Epoch 4/20\n",
            "15000/15000 [==============================] - 2s 107us/step - loss: 0.1670 - acc: 0.9445 - val_loss: 0.2775 - val_acc: 0.8886\n",
            "Epoch 5/20\n",
            "15000/15000 [==============================] - 2s 107us/step - loss: 0.1315 - acc: 0.9579 - val_loss: 0.2923 - val_acc: 0.8871\n",
            "Epoch 6/20\n",
            "15000/15000 [==============================] - 2s 107us/step - loss: 0.1076 - acc: 0.9637 - val_loss: 0.3122 - val_acc: 0.8848\n",
            "Epoch 7/20\n",
            "15000/15000 [==============================] - 2s 107us/step - loss: 0.0853 - acc: 0.9734 - val_loss: 0.3335 - val_acc: 0.8834\n",
            "Epoch 8/20\n",
            "15000/15000 [==============================] - 2s 107us/step - loss: 0.0680 - acc: 0.9802 - val_loss: 0.3704 - val_acc: 0.8797\n",
            "Epoch 9/20\n",
            "15000/15000 [==============================] - 2s 107us/step - loss: 0.0547 - acc: 0.9843 - val_loss: 0.4032 - val_acc: 0.8770\n",
            "Epoch 10/20\n",
            "15000/15000 [==============================] - 2s 107us/step - loss: 0.0419 - acc: 0.9903 - val_loss: 0.4282 - val_acc: 0.8762\n",
            "Epoch 11/20\n",
            "15000/15000 [==============================] - 2s 107us/step - loss: 0.0329 - acc: 0.9918 - val_loss: 0.4659 - val_acc: 0.8733\n",
            "Epoch 12/20\n",
            "15000/15000 [==============================] - 2s 108us/step - loss: 0.0292 - acc: 0.9923 - val_loss: 0.5000 - val_acc: 0.8721\n",
            "Epoch 13/20\n",
            "15000/15000 [==============================] - 2s 108us/step - loss: 0.0204 - acc: 0.9953 - val_loss: 0.5286 - val_acc: 0.8710\n",
            "Epoch 14/20\n",
            "15000/15000 [==============================] - 2s 106us/step - loss: 0.0104 - acc: 0.9993 - val_loss: 0.5669 - val_acc: 0.8708\n",
            "Epoch 15/20\n",
            "15000/15000 [==============================] - 2s 107us/step - loss: 0.0145 - acc: 0.9961 - val_loss: 0.6095 - val_acc: 0.8700\n",
            "Epoch 16/20\n",
            "15000/15000 [==============================] - 2s 106us/step - loss: 0.0050 - acc: 0.9998 - val_loss: 0.6533 - val_acc: 0.8668\n",
            "Epoch 17/20\n",
            "15000/15000 [==============================] - 2s 107us/step - loss: 0.0128 - acc: 0.9967 - val_loss: 0.6876 - val_acc: 0.8667\n",
            "Epoch 18/20\n",
            "15000/15000 [==============================] - 2s 108us/step - loss: 0.0027 - acc: 0.9999 - val_loss: 0.7531 - val_acc: 0.8649\n",
            "Epoch 19/20\n",
            "15000/15000 [==============================] - 2s 107us/step - loss: 0.0101 - acc: 0.9964 - val_loss: 0.7572 - val_acc: 0.8647\n",
            "Epoch 20/20\n",
            "15000/15000 [==============================] - 2s 107us/step - loss: 0.0015 - acc: 0.9999 - val_loss: 0.7904 - val_acc: 0.8651\n",
            "dict_keys(['val_loss', 'val_acc', 'loss', 'acc'])\n"
          ],
          "name": "stdout"
        },
        {
          "output_type": "display_data",
          "data": {
            "image/png": "[encoded data removed]",
            "text/plain": [
              "<Figure size 432x288 with 1 Axes>"
            ]
          },
          "metadata": {
            "tags": [],
            "needs_background": "light"
          }
        }
      ]
    },
    {
      "cell_type": "code",
      "metadata": {
        "id": "ryTwKctcai1R",
        "colab_type": "code",
        "colab": {
          "base_uri": "https://localhost:8080/",
          "height": 993
        },
        "outputId": "f2d55bdc-a4c7-4fe2-ac47-2bc7eeaa6528"
      },
      "source": [
        "model = models.Sequential()\n",
        "\n",
        "model.add(layers.Dense(64, activation='relu', input_shape=(10000,)))\n",
        "model.add(layers.Dense(64, activation='relu'))\n",
        "model.add(layers.Dense(1, activation='sigmoid'))\n",
        "\n",
        "model.compile(optimizer='rmsprop',\n",
        "              loss='binary_crossentropy',\n",
        "              metrics=['acc'])\n",
        "\n",
        "history = model.fit(partial_x_train,\n",
        "                    partial_y_train,\n",
        "                    epochs=20,\n",
        "                    batch_size=512,\n",
        "                    validation_data=[x_val, y_val])\n",
        "\n",
        "history_dict = history.history\n",
        "print(history_dict.keys())\n",
        "\n",
        "plt.clf()\n",
        "\n",
        "epochs = range(1, len(history_dict['acc']) + 1)\n",
        "\n",
        "plt.plot(epochs, history_dict['acc'], 'bo', label='Training Accuracy')\n",
        "plt.plot(epochs, history_dict['val_acc'], 'b', label='Validation Accuracy')\n",
        "plt.plot(epochs, history_dict['loss'], 'ro', label='Training Loss')\n",
        "plt.plot(epochs, history_dict['val_loss'], 'r', label='Validation Loss')\n",
        "\n",
        "plt.legend()\n",
        "plt.show()"
      ],
      "execution_count": 30,
      "outputs": [
        {
          "output_type": "stream",
          "text": [
            "Train on 15000 samples, validate on 10000 samples\n",
            "Epoch 1/20\n",
            "15000/15000 [==============================] - 2s 145us/step - loss: 0.4960 - acc: 0.7583 - val_loss: 0.3692 - val_acc: 0.8545\n",
            "Epoch 2/20\n",
            "15000/15000 [==============================] - 2s 138us/step - loss: 0.2599 - acc: 0.9036 - val_loss: 0.2990 - val_acc: 0.8810\n",
            "Epoch 3/20\n",
            "15000/15000 [==============================] - 2s 136us/step - loss: 0.1921 - acc: 0.9306 - val_loss: 0.2812 - val_acc: 0.8869\n",
            "Epoch 4/20\n",
            "15000/15000 [==============================] - 2s 136us/step - loss: 0.1430 - acc: 0.9485 - val_loss: 0.2934 - val_acc: 0.8862\n",
            "Epoch 5/20\n",
            "15000/15000 [==============================] - 2s 137us/step - loss: 0.1072 - acc: 0.9623 - val_loss: 0.3144 - val_acc: 0.8855\n",
            "Epoch 6/20\n",
            "15000/15000 [==============================] - 2s 138us/step - loss: 0.0820 - acc: 0.9727 - val_loss: 0.4334 - val_acc: 0.8583\n",
            "Epoch 7/20\n",
            "15000/15000 [==============================] - 2s 138us/step - loss: 0.0626 - acc: 0.9811 - val_loss: 0.3731 - val_acc: 0.8822\n",
            "Epoch 8/20\n",
            "15000/15000 [==============================] - 2s 141us/step - loss: 0.0458 - acc: 0.9861 - val_loss: 0.4141 - val_acc: 0.8778\n",
            "Epoch 9/20\n",
            "15000/15000 [==============================] - 2s 139us/step - loss: 0.0177 - acc: 0.9975 - val_loss: 0.5477 - val_acc: 0.8653\n",
            "Epoch 10/20\n",
            "15000/15000 [==============================] - 2s 139us/step - loss: 0.0286 - acc: 0.9919 - val_loss: 0.5107 - val_acc: 0.8751\n",
            "Epoch 11/20\n",
            "15000/15000 [==============================] - 2s 141us/step - loss: 0.0424 - acc: 0.9894 - val_loss: 0.5275 - val_acc: 0.8752\n",
            "Epoch 12/20\n",
            "15000/15000 [==============================] - 2s 141us/step - loss: 0.0043 - acc: 0.9997 - val_loss: 0.5750 - val_acc: 0.8747\n",
            "Epoch 13/20\n",
            "15000/15000 [==============================] - 2s 142us/step - loss: 0.0190 - acc: 0.9949 - val_loss: 0.6253 - val_acc: 0.8700\n",
            "Epoch 14/20\n",
            "15000/15000 [==============================] - 2s 140us/step - loss: 0.0023 - acc: 0.9999 - val_loss: 0.6571 - val_acc: 0.8744\n",
            "Epoch 15/20\n",
            "15000/15000 [==============================] - 2s 139us/step - loss: 0.0012 - acc: 0.9999 - val_loss: 0.7164 - val_acc: 0.8725\n",
            "Epoch 16/20\n",
            "15000/15000 [==============================] - 2s 138us/step - loss: 0.0372 - acc: 0.9914 - val_loss: 0.7699 - val_acc: 0.8670\n",
            "Epoch 17/20\n",
            "15000/15000 [==============================] - 2s 140us/step - loss: 6.3063e-04 - acc: 1.0000 - val_loss: 0.7749 - val_acc: 0.8718\n",
            "Epoch 18/20\n",
            "15000/15000 [==============================] - 2s 140us/step - loss: 4.0928e-04 - acc: 1.0000 - val_loss: 0.8108 - val_acc: 0.8724\n",
            "Epoch 19/20\n",
            "15000/15000 [==============================] - 2s 138us/step - loss: 2.8295e-04 - acc: 1.0000 - val_loss: 0.8662 - val_acc: 0.8700\n",
            "Epoch 20/20\n",
            "15000/15000 [==============================] - 2s 139us/step - loss: 0.0310 - acc: 0.9933 - val_loss: 0.9159 - val_acc: 0.8688\n",
            "dict_keys(['val_loss', 'val_acc', 'loss', 'acc'])\n"
          ],
          "name": "stdout"
        },
        {
          "output_type": "display_data",
          "data": {
            "image/png": "[encoded data removed]",
            "text/plain": [
              "<Figure size 432x288 with 1 Axes>"
            ]
          },
          "metadata": {
            "tags": [],
            "needs_background": "light"
          }
        }
      ]
    },
    {
      "cell_type": "code",
      "metadata": {
        "id": "bcCOTMjIa1yY",
        "colab_type": "code",
        "colab": {
          "base_uri": "https://localhost:8080/",
          "height": 993
        },
        "outputId": "48b0c9e4-49c7-4612-ef6c-3222d58de557"
      },
      "source": [
        "model = models.Sequential()\n",
        "\n",
        "model.add(layers.Dense(16, activation='relu', input_shape=(10000,)))\n",
        "model.add(layers.Dense(16, activation='relu'))\n",
        "model.add(layers.Dense(1, activation='sigmoid'))\n",
        "\n",
        "model.compile(optimizer='rmsprop',\n",
        "              loss='mse',\n",
        "              metrics=['acc'])\n",
        "\n",
        "history = model.fit(partial_x_train,\n",
        "                    partial_y_train,\n",
        "                    epochs=20,\n",
        "                    batch_size=512,\n",
        "                    validation_data=[x_val, y_val])\n",
        "\n",
        "history_dict = history.history\n",
        "print(history_dict.keys())\n",
        "\n",
        "plt.clf()\n",
        "\n",
        "epochs = range(1, len(history_dict['acc']) + 1)\n",
        "\n",
        "plt.plot(epochs, history_dict['acc'], 'bo', label='Training Accuracy')\n",
        "plt.plot(epochs, history_dict['val_acc'], 'b', label='Validation Accuracy')\n",
        "plt.plot(epochs, history_dict['loss'], 'ro', label='Training Loss')\n",
        "plt.plot(epochs, history_dict['val_loss'], 'r', label='Validation Loss')\n",
        "\n",
        "plt.legend()\n",
        "plt.show()"
      ],
      "execution_count": 31,
      "outputs": [
        {
          "output_type": "stream",
          "text": [
            "Train on 15000 samples, validate on 10000 samples\n",
            "Epoch 1/20\n",
            "15000/15000 [==============================] - 2s 101us/step - loss: 0.1801 - acc: 0.7586 - val_loss: 0.1215 - val_acc: 0.8678\n",
            "Epoch 2/20\n",
            "15000/15000 [==============================] - 1s 96us/step - loss: 0.0924 - acc: 0.9033 - val_loss: 0.1096 - val_acc: 0.8537\n",
            "Epoch 3/20\n",
            "15000/15000 [==============================] - 1s 96us/step - loss: 0.0663 - acc: 0.9292 - val_loss: 0.0854 - val_acc: 0.8905\n",
            "Epoch 4/20\n",
            "15000/15000 [==============================] - 1s 97us/step - loss: 0.0515 - acc: 0.9465 - val_loss: 0.0866 - val_acc: 0.8853\n",
            "Epoch 5/20\n",
            "15000/15000 [==============================] - 1s 95us/step - loss: 0.0404 - acc: 0.9573 - val_loss: 0.0892 - val_acc: 0.8771\n",
            "Epoch 6/20\n",
            "15000/15000 [==============================] - 1s 95us/step - loss: 0.0327 - acc: 0.9663 - val_loss: 0.0936 - val_acc: 0.8723\n",
            "Epoch 7/20\n",
            "15000/15000 [==============================] - 1s 95us/step - loss: 0.0263 - acc: 0.9755 - val_loss: 0.0883 - val_acc: 0.8815\n",
            "Epoch 8/20\n",
            "15000/15000 [==============================] - 1s 95us/step - loss: 0.0212 - acc: 0.9815 - val_loss: 0.1001 - val_acc: 0.8647\n",
            "Epoch 9/20\n",
            "15000/15000 [==============================] - 1s 95us/step - loss: 0.0186 - acc: 0.9823 - val_loss: 0.0936 - val_acc: 0.8766\n",
            "Epoch 10/20\n",
            "15000/15000 [==============================] - 1s 95us/step - loss: 0.0136 - acc: 0.9897 - val_loss: 0.0928 - val_acc: 0.8770\n",
            "Epoch 11/20\n",
            "15000/15000 [==============================] - 1s 95us/step - loss: 0.0119 - acc: 0.9897 - val_loss: 0.0953 - val_acc: 0.8756\n",
            "Epoch 12/20\n",
            "15000/15000 [==============================] - 1s 94us/step - loss: 0.0102 - acc: 0.9915 - val_loss: 0.0974 - val_acc: 0.8743\n",
            "Epoch 13/20\n",
            "15000/15000 [==============================] - 1s 92us/step - loss: 0.0084 - acc: 0.9928 - val_loss: 0.1000 - val_acc: 0.8717\n",
            "Epoch 14/20\n",
            "15000/15000 [==============================] - 1s 93us/step - loss: 0.0069 - acc: 0.9942 - val_loss: 0.1037 - val_acc: 0.8685\n",
            "Epoch 15/20\n",
            "15000/15000 [==============================] - 1s 94us/step - loss: 0.0061 - acc: 0.9950 - val_loss: 0.1026 - val_acc: 0.8702\n",
            "Epoch 16/20\n",
            "15000/15000 [==============================] - 1s 94us/step - loss: 0.0038 - acc: 0.9970 - val_loss: 0.1059 - val_acc: 0.8659\n",
            "Epoch 17/20\n",
            "15000/15000 [==============================] - 1s 95us/step - loss: 0.0053 - acc: 0.9949 - val_loss: 0.1060 - val_acc: 0.8677\n",
            "Epoch 18/20\n",
            "15000/15000 [==============================] - 1s 95us/step - loss: 0.0028 - acc: 0.9976 - val_loss: 0.1080 - val_acc: 0.8658\n",
            "Epoch 19/20\n",
            "15000/15000 [==============================] - 1s 95us/step - loss: 0.0043 - acc: 0.9959 - val_loss: 0.1085 - val_acc: 0.8661\n",
            "Epoch 20/20\n",
            "15000/15000 [==============================] - 1s 93us/step - loss: 0.0024 - acc: 0.9979 - val_loss: 0.1132 - val_acc: 0.8626\n",
            "dict_keys(['val_loss', 'val_acc', 'loss', 'acc'])\n"
          ],
          "name": "stdout"
        },
        {
          "output_type": "display_data",
          "data": {
            "image/png": "[encoded data removed]",
            "text/plain": [
              "<Figure size 432x288 with 1 Axes>"
            ]
          },
          "metadata": {
            "tags": [],
            "needs_background": "light"
          }
        }
      ]
    },
    {
      "cell_type": "code",
      "metadata": {
        "id": "tO4xyp6ObH5l",
        "colab_type": "code",
        "colab": {
          "base_uri": "https://localhost:8080/",
          "height": 993
        },
        "outputId": "27cf90fe-2ece-451f-d129-d84540bd23f4"
      },
      "source": [
        "model = models.Sequential()\n",
        "\n",
        "model.add(layers.Dense(16, activation='tanh', input_shape=(10000,)))\n",
        "model.add(layers.Dense(16, activation='tanh'))\n",
        "model.add(layers.Dense(1, activation='sigmoid'))\n",
        "\n",
        "model.compile(optimizer='rmsprop',\n",
        "              loss='binary_crossentropy',\n",
        "              metrics=['acc'])\n",
        "\n",
        "history = model.fit(partial_x_train,\n",
        "                    partial_y_train,\n",
        "                    epochs=20,\n",
        "                    batch_size=512,\n",
        "                    validation_data=[x_val, y_val])\n",
        "\n",
        "history_dict = history.history\n",
        "print(history_dict.keys())\n",
        "\n",
        "plt.clf()\n",
        "\n",
        "epochs = range(1, len(history_dict['acc']) + 1)\n",
        "\n",
        "plt.plot(epochs, history_dict['acc'], 'bo', label='Training Accuracy')\n",
        "plt.plot(epochs, history_dict['val_acc'], 'b', label='Validation Accuracy')\n",
        "plt.plot(epochs, history_dict['loss'], 'ro', label='Training Loss')\n",
        "plt.plot(epochs, history_dict['val_loss'], 'r', label='Validation Loss')\n",
        "\n",
        "plt.legend()\n",
        "plt.show()"
      ],
      "execution_count": 32,
      "outputs": [
        {
          "output_type": "stream",
          "text": [
            "Train on 15000 samples, validate on 10000 samples\n",
            "Epoch 1/20\n",
            "15000/15000 [==============================] - 2s 103us/step - loss: 0.4960 - acc: 0.7943 - val_loss: 0.3606 - val_acc: 0.8759\n",
            "Epoch 2/20\n",
            "15000/15000 [==============================] - 1s 94us/step - loss: 0.2801 - acc: 0.9070 - val_loss: 0.2826 - val_acc: 0.8912\n",
            "Epoch 3/20\n",
            "15000/15000 [==============================] - 1s 95us/step - loss: 0.1960 - acc: 0.9366 - val_loss: 0.2718 - val_acc: 0.8895\n",
            "Epoch 4/20\n",
            "15000/15000 [==============================] - 2s 118us/step - loss: 0.1468 - acc: 0.9507 - val_loss: 0.2762 - val_acc: 0.8904\n",
            "Epoch 5/20\n",
            "15000/15000 [==============================] - 2s 136us/step - loss: 0.1129 - acc: 0.9631 - val_loss: 0.3138 - val_acc: 0.8810\n",
            "Epoch 6/20\n",
            "15000/15000 [==============================] - 2s 138us/step - loss: 0.0903 - acc: 0.9697 - val_loss: 0.3354 - val_acc: 0.8836\n",
            "Epoch 7/20\n",
            "15000/15000 [==============================] - 2s 130us/step - loss: 0.0688 - acc: 0.9785 - val_loss: 0.3782 - val_acc: 0.8760\n",
            "Epoch 8/20\n",
            "15000/15000 [==============================] - 1s 93us/step - loss: 0.0536 - acc: 0.9845 - val_loss: 0.4302 - val_acc: 0.8717\n",
            "Epoch 9/20\n",
            "15000/15000 [==============================] - 1s 94us/step - loss: 0.0385 - acc: 0.9897 - val_loss: 0.4722 - val_acc: 0.8732\n",
            "Epoch 10/20\n",
            "15000/15000 [==============================] - 1s 93us/step - loss: 0.0360 - acc: 0.9891 - val_loss: 0.5245 - val_acc: 0.8658\n",
            "Epoch 11/20\n",
            "15000/15000 [==============================] - 1s 93us/step - loss: 0.0257 - acc: 0.9925 - val_loss: 0.5503 - val_acc: 0.8706\n",
            "Epoch 12/20\n",
            "15000/15000 [==============================] - 1s 93us/step - loss: 0.0105 - acc: 0.9987 - val_loss: 0.6233 - val_acc: 0.8680\n",
            "Epoch 13/20\n",
            "15000/15000 [==============================] - 1s 93us/step - loss: 0.0248 - acc: 0.9931 - val_loss: 0.6278 - val_acc: 0.8675\n",
            "Epoch 14/20\n",
            "15000/15000 [==============================] - 1s 94us/step - loss: 0.0051 - acc: 0.9995 - val_loss: 0.7906 - val_acc: 0.8508\n",
            "Epoch 15/20\n",
            "15000/15000 [==============================] - 1s 94us/step - loss: 0.0143 - acc: 0.9956 - val_loss: 0.6845 - val_acc: 0.8664\n",
            "Epoch 16/20\n",
            "15000/15000 [==============================] - 1s 94us/step - loss: 0.0144 - acc: 0.9951 - val_loss: 0.7903 - val_acc: 0.8534\n",
            "Epoch 17/20\n",
            "15000/15000 [==============================] - 1s 94us/step - loss: 0.0018 - acc: 0.9999 - val_loss: 0.7521 - val_acc: 0.8661\n",
            "Epoch 18/20\n",
            "15000/15000 [==============================] - 1s 93us/step - loss: 9.0290e-04 - acc: 1.0000 - val_loss: 0.9260 - val_acc: 0.8506\n",
            "Epoch 19/20\n",
            "15000/15000 [==============================] - 1s 93us/step - loss: 0.0180 - acc: 0.9949 - val_loss: 0.8060 - val_acc: 0.8651\n",
            "Epoch 20/20\n",
            "15000/15000 [==============================] - 1s 93us/step - loss: 5.1184e-04 - acc: 1.0000 - val_loss: 0.8312 - val_acc: 0.8651\n",
            "dict_keys(['val_loss', 'val_acc', 'loss', 'acc'])\n"
          ],
          "name": "stdout"
        },
        {
          "output_type": "display_data",
          "data": {
            "image/png": "[encoded data removed]",
            "text/plain": [
              "<Figure size 432x288 with 1 Axes>"
            ]
          },
          "metadata": {
            "tags": [],
            "needs_background": "light"
          }
        }
      ]
    },
    {
      "cell_type": "code",
      "metadata": {
        "id": "dF1sAAyfbfjV",
        "colab_type": "code",
        "colab": {}
      },
      "source": [
        ""
      ],
      "execution_count": 0,
      "outputs": []
    }
  ]
}