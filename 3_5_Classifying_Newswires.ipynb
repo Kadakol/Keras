{
  "nbformat": 4,
  "nbformat_minor": 0,
  "metadata": {
    "colab": {
      "name": "3.5 - Classifying Newswires.ipynb",
      "provenance": [],
      "collapsed_sections": [],
      "authorship_tag": "ABX9TyMFN/7B6Y6T7WoK70G0ZO4Q",
      "include_colab_link": true
    },
    "kernelspec": {
      "name": "python3",
      "display_name": "Python 3"
    }
  },
  "cells": [
    {
      "cell_type": "markdown",
      "metadata": {
        "id": "view-in-github",
        "colab_type": "text"
      },
      "source": [
        "<a href=\"https://colab.research.google.com/github/Kadakol/Keras/blob/master/3_5_Classifying_Newswires.ipynb\" target=\"_parent\"><img src=\"https://colab.research.google.com/assets/colab-badge.svg\" alt=\"Open In Colab\"/></a>"
      ]
    },
    {
      "cell_type": "code",
      "metadata": {
        "id": "wPi-TfCOf9ZB",
        "colab_type": "code",
        "colab": {
          "base_uri": "https://localhost:8080/",
          "height": 69
        },
        "outputId": "b0038471-00b2-4989-9844-550b3059c9b7"
      },
      "source": [
        "from keras.datasets import reuters\n",
        "\n",
        "(train_data, train_labels), (test_data, test_labels) = reuters.load_data(num_words=10000)"
      ],
      "execution_count": 1,
      "outputs": [
        {
          "output_type": "stream",
          "text": [
            "Using TensorFlow backend.\n"
          ],
          "name": "stderr"
        },
        {
          "output_type": "stream",
          "text": [
            "Downloading data from https://s3.amazonaws.com/text-datasets/reuters.npz\n",
            "2113536/2110848 [==============================] - 1s 1us/step\n"
          ],
          "name": "stdout"
        }
      ]
    },
    {
      "cell_type": "code",
      "metadata": {
        "id": "vQJZUI5PgrCb",
        "colab_type": "code",
        "colab": {
          "base_uri": "https://localhost:8080/",
          "height": 35
        },
        "outputId": "e19ec714-6fb6-48b6-b8a4-85fb78f4187c"
      },
      "source": [
        "len(train_data)"
      ],
      "execution_count": 2,
      "outputs": [
        {
          "output_type": "execute_result",
          "data": {
            "text/plain": [
              "8982"
            ]
          },
          "metadata": {
            "tags": []
          },
          "execution_count": 2
        }
      ]
    },
    {
      "cell_type": "code",
      "metadata": {
        "id": "llhzCw8jgwpe",
        "colab_type": "code",
        "colab": {
          "base_uri": "https://localhost:8080/",
          "height": 35
        },
        "outputId": "0859e4f4-2524-433b-8d0c-e20328275e16"
      },
      "source": [
        "len(test_data)"
      ],
      "execution_count": 3,
      "outputs": [
        {
          "output_type": "execute_result",
          "data": {
            "text/plain": [
              "2246"
            ]
          },
          "metadata": {
            "tags": []
          },
          "execution_count": 3
        }
      ]
    },
    {
      "cell_type": "code",
      "metadata": {
        "id": "f3ka4J3Pgxqa",
        "colab_type": "code",
        "colab": {
          "base_uri": "https://localhost:8080/",
          "height": 176
        },
        "outputId": "f354c572-9680-4450-d450-13694fb9469b"
      },
      "source": [
        "train_data"
      ],
      "execution_count": 4,
      "outputs": [
        {
          "output_type": "execute_result",
          "data": {
            "text/plain": [
              "array([list([1, 2, 2, 8, 43, 10, 447, 5, 25, 207, 270, 5, 3095, 111, 16, 369, 186, 90, 67, 7, 89, 5, 19, 102, 6, 19, 124, 15, 90, 67, 84, 22, 482, 26, 7, 48, 4, 49, 8, 864, 39, 209, 154, 6, 151, 6, 83, 11, 15, 22, 155, 11, 15, 7, 48, 9, 4579, 1005, 504, 6, 258, 6, 272, 11, 15, 22, 134, 44, 11, 15, 16, 8, 197, 1245, 90, 67, 52, 29, 209, 30, 32, 132, 6, 109, 15, 17, 12]),\n",
              "       list([1, 3267, 699, 3434, 2295, 56, 2, 7511, 9, 56, 3906, 1073, 81, 5, 1198, 57, 366, 737, 132, 20, 4093, 7, 2, 49, 2295, 2, 1037, 3267, 699, 3434, 8, 7, 10, 241, 16, 855, 129, 231, 783, 5, 4, 587, 2295, 2, 2, 775, 7, 48, 34, 191, 44, 35, 1795, 505, 17, 12]),\n",
              "       list([1, 53, 12, 284, 15, 14, 272, 26, 53, 959, 32, 818, 15, 14, 272, 26, 39, 684, 70, 11, 14, 12, 3886, 18, 180, 183, 187, 70, 11, 14, 102, 32, 11, 29, 53, 44, 704, 15, 14, 19, 758, 15, 53, 959, 47, 1013, 15, 14, 19, 132, 15, 39, 965, 32, 11, 14, 147, 72, 11, 180, 183, 187, 44, 11, 14, 102, 19, 11, 123, 186, 90, 67, 960, 4, 78, 13, 68, 467, 511, 110, 59, 89, 90, 67, 1390, 55, 2678, 92, 617, 80, 1274, 46, 905, 220, 13, 4, 346, 48, 235, 629, 5, 211, 5, 1118, 7, 2, 81, 5, 187, 11, 15, 9, 1709, 201, 5, 47, 3615, 18, 478, 4514, 5, 1118, 7, 232, 2, 71, 5, 160, 63, 11, 9, 2, 81, 5, 102, 59, 11, 17, 12]),\n",
              "       ...,\n",
              "       list([1, 141, 3890, 387, 81, 8, 16, 1629, 10, 340, 1241, 850, 31, 56, 3890, 691, 9, 1241, 71, 9, 5985, 2, 2, 699, 2, 2, 2, 699, 244, 5945, 4, 49, 8, 4, 656, 850, 33, 2993, 9, 2139, 340, 3371, 1493, 9, 2, 22, 2, 1094, 687, 83, 35, 15, 257, 6, 57, 9190, 7, 4, 5956, 654, 5, 2, 6191, 1371, 4, 49, 8, 16, 369, 646, 6, 1076, 7, 124, 407, 17, 12]),\n",
              "       list([1, 53, 46, 957, 26, 14, 74, 132, 26, 39, 46, 258, 3614, 18, 14, 74, 134, 5131, 18, 88, 2321, 72, 11, 14, 1842, 32, 11, 123, 383, 89, 39, 46, 235, 10, 864, 728, 5, 258, 44, 11, 15, 22, 753, 9, 42, 92, 131, 728, 5, 69, 312, 11, 15, 22, 222, 2, 3237, 383, 48, 39, 74, 235, 10, 864, 276, 5, 61, 32, 11, 15, 21, 4, 211, 5, 126, 1072, 42, 92, 131, 46, 19, 352, 11, 15, 22, 710, 220, 9, 42, 92, 131, 276, 5, 59, 61, 11, 15, 22, 10, 455, 7, 1172, 137, 336, 1325, 6, 1532, 142, 971, 6463, 43, 359, 5, 4, 326, 753, 364, 17, 12]),\n",
              "       list([1, 227, 2406, 91, 2, 125, 2855, 21, 4, 3976, 76, 7, 4, 757, 481, 3976, 790, 5259, 5654, 9, 111, 149, 8, 7, 10, 76, 223, 51, 4, 417, 8, 1047, 91, 6917, 1688, 340, 7, 194, 9411, 6, 1894, 21, 127, 2151, 2394, 1456, 6, 3034, 4, 329, 433, 7, 65, 87, 1127, 10, 8219, 1475, 290, 9, 21, 567, 16, 1926, 24, 4, 76, 209, 30, 4033, 6655, 5654, 8, 4, 60, 8, 4, 966, 308, 40, 2575, 129, 2, 295, 277, 1071, 9, 24, 286, 2114, 234, 222, 9, 4, 906, 3994, 8519, 114, 5758, 1752, 7, 4, 113, 17, 12])],\n",
              "      dtype=object)"
            ]
          },
          "metadata": {
            "tags": []
          },
          "execution_count": 4
        }
      ]
    },
    {
      "cell_type": "code",
      "metadata": {
        "id": "chkZUDvPg2T4",
        "colab_type": "code",
        "colab": {
          "base_uri": "https://localhost:8080/",
          "height": 55
        },
        "outputId": "a0c15696-4491-4b5c-83a7-9a368131f7a6"
      },
      "source": [
        "word_index = reuters.get_word_index()\n",
        "reverse_word_index = dict([(value, key) for (key, value) in word_index.items()])\n",
        "\n",
        "decoded_newswire = ' '.join([reverse_word_index.get(i - 3, '?') for i in train_data[0]])\n",
        "\n",
        "decoded_newswire"
      ],
      "execution_count": 6,
      "outputs": [
        {
          "output_type": "execute_result",
          "data": {
            "text/plain": [
              "'? ? ? said as a result of its december acquisition of space co it expects earnings per share in 1987 of 1 15 to 1 30 dlrs per share up from 70 cts in 1986 the company said pretax net should rise to nine to 10 mln dlrs from six mln dlrs in 1986 and rental operation revenues to 19 to 22 mln dlrs from 12 5 mln dlrs it said cash flow per share this year should be 2 50 to three dlrs reuter 3'"
            ]
          },
          "metadata": {
            "tags": []
          },
          "execution_count": 6
        }
      ]
    },
    {
      "cell_type": "code",
      "metadata": {
        "id": "BrIl45pDhX56",
        "colab_type": "code",
        "colab": {}
      },
      "source": [
        "import numpy as np\n",
        "\n",
        "def vectorize_sequences(sequences, dimension=10000):\n",
        "  results = np.zeros((len(sequences), dimension))\n",
        "  for i, sequence in enumerate(sequences):\n",
        "    results[i, sequence] = 1.\n",
        "  return results\n",
        "\n",
        "x_train = vectorize_sequences(train_data)\n",
        "x_test = vectorize_sequences(test_data)"
      ],
      "execution_count": 0,
      "outputs": []
    },
    {
      "cell_type": "code",
      "metadata": {
        "id": "ZFMSxDbdiv-u",
        "colab_type": "code",
        "colab": {}
      },
      "source": [
        "def one_hot_encode(labels, dimension=46):\n",
        "  results = np.zeros((len(labels), dimension))\n",
        "  for i, label in enumerate(labels):\n",
        "    results[i, label] = 1.\n",
        "  return results  \n",
        "\n",
        "y_train = one_hot_encode(train_labels)\n",
        "y_test = one_hot_encode(test_labels)  "
      ],
      "execution_count": 0,
      "outputs": []
    },
    {
      "cell_type": "code",
      "metadata": {
        "id": "kTNcsTIVjYEv",
        "colab_type": "code",
        "colab": {}
      },
      "source": [
        "from keras.utils.np_utils import to_categorical\n",
        "\n",
        "y_train = to_categorical(train_labels)\n",
        "y_test = to_categorical(test_labels)"
      ],
      "execution_count": 0,
      "outputs": []
    },
    {
      "cell_type": "code",
      "metadata": {
        "id": "bnQQf3B_jjjp",
        "colab_type": "code",
        "colab": {}
      },
      "source": [
        "from keras import models, layers\n",
        "\n",
        "model = models.Sequential()\n",
        "model.add(layers.Dense(64, activation='relu', input_shape=(10000,)))\n",
        "model.add(layers.Dense(64, activation='relu'))\n",
        "model.add(layers.Dense(46, activation='softmax'))"
      ],
      "execution_count": 0,
      "outputs": []
    },
    {
      "cell_type": "code",
      "metadata": {
        "id": "jqhv74VakM8V",
        "colab_type": "code",
        "colab": {}
      },
      "source": [
        "model.compile(optimizer='rmsprop',\n",
        "              loss='categorical_crossentropy',\n",
        "              metrics=['acc'])"
      ],
      "execution_count": 0,
      "outputs": []
    },
    {
      "cell_type": "code",
      "metadata": {
        "id": "s0ernkL1kvTU",
        "colab_type": "code",
        "colab": {}
      },
      "source": [
        "x_val = x_train[:1000]\n",
        "partial_x_train = x_train[1000:]\n",
        "\n",
        "y_val = y_train[:1000]\n",
        "partial_y_train = y_train[1000:]"
      ],
      "execution_count": 0,
      "outputs": []
    },
    {
      "cell_type": "code",
      "metadata": {
        "id": "ZOEDYC53lBb5",
        "colab_type": "code",
        "colab": {
          "base_uri": "https://localhost:8080/",
          "height": 728
        },
        "outputId": "4f4006fc-c0dd-4a2c-e638-fb19aeea1895"
      },
      "source": [
        "history = model.fit(partial_x_train,\n",
        "                    partial_y_train,\n",
        "                    epochs=20,\n",
        "                    batch_size=512,\n",
        "                    validation_data=[x_val, y_val])"
      ],
      "execution_count": 18,
      "outputs": [
        {
          "output_type": "stream",
          "text": [
            "Train on 7982 samples, validate on 1000 samples\n",
            "Epoch 1/20\n",
            "7982/7982 [==============================] - 1s 152us/step - loss: 2.6039 - acc: 0.5608 - val_loss: 1.7290 - val_acc: 0.6430\n",
            "Epoch 2/20\n",
            "7982/7982 [==============================] - 1s 112us/step - loss: 1.3934 - acc: 0.7132 - val_loss: 1.3038 - val_acc: 0.7260\n",
            "Epoch 3/20\n",
            "7982/7982 [==============================] - 1s 112us/step - loss: 1.0399 - acc: 0.7749 - val_loss: 1.1488 - val_acc: 0.7400\n",
            "Epoch 4/20\n",
            "7982/7982 [==============================] - 1s 113us/step - loss: 0.8255 - acc: 0.8220 - val_loss: 1.0543 - val_acc: 0.7740\n",
            "Epoch 5/20\n",
            "7982/7982 [==============================] - 1s 113us/step - loss: 0.6543 - acc: 0.8607 - val_loss: 1.0153 - val_acc: 0.7600\n",
            "Epoch 6/20\n",
            "7982/7982 [==============================] - 1s 113us/step - loss: 0.5262 - acc: 0.8901 - val_loss: 0.9328 - val_acc: 0.7990\n",
            "Epoch 7/20\n",
            "7982/7982 [==============================] - 1s 113us/step - loss: 0.4270 - acc: 0.9095 - val_loss: 0.9144 - val_acc: 0.8030\n",
            "Epoch 8/20\n",
            "7982/7982 [==============================] - 1s 113us/step - loss: 0.3448 - acc: 0.9278 - val_loss: 0.9070 - val_acc: 0.8110\n",
            "Epoch 9/20\n",
            "7982/7982 [==============================] - 1s 113us/step - loss: 0.2844 - acc: 0.9359 - val_loss: 0.9494 - val_acc: 0.8050\n",
            "Epoch 10/20\n",
            "7982/7982 [==============================] - 1s 113us/step - loss: 0.2469 - acc: 0.9445 - val_loss: 0.9255 - val_acc: 0.8150\n",
            "Epoch 11/20\n",
            "7982/7982 [==============================] - 1s 113us/step - loss: 0.2088 - acc: 0.9484 - val_loss: 0.9185 - val_acc: 0.8140\n",
            "Epoch 12/20\n",
            "7982/7982 [==============================] - 1s 115us/step - loss: 0.1846 - acc: 0.9535 - val_loss: 0.9369 - val_acc: 0.8110\n",
            "Epoch 13/20\n",
            "7982/7982 [==============================] - 1s 116us/step - loss: 0.1655 - acc: 0.9541 - val_loss: 0.9502 - val_acc: 0.8170\n",
            "Epoch 14/20\n",
            "7982/7982 [==============================] - 1s 115us/step - loss: 0.1538 - acc: 0.9541 - val_loss: 0.9627 - val_acc: 0.8110\n",
            "Epoch 15/20\n",
            "7982/7982 [==============================] - 1s 115us/step - loss: 0.1393 - acc: 0.9563 - val_loss: 0.9798 - val_acc: 0.8120\n",
            "Epoch 16/20\n",
            "7982/7982 [==============================] - 1s 116us/step - loss: 0.1347 - acc: 0.9560 - val_loss: 1.0215 - val_acc: 0.8110\n",
            "Epoch 17/20\n",
            "7982/7982 [==============================] - 1s 115us/step - loss: 0.1295 - acc: 0.9549 - val_loss: 1.1568 - val_acc: 0.7800\n",
            "Epoch 18/20\n",
            "7982/7982 [==============================] - 1s 114us/step - loss: 0.1194 - acc: 0.9578 - val_loss: 1.0361 - val_acc: 0.8070\n",
            "Epoch 19/20\n",
            "7982/7982 [==============================] - 1s 114us/step - loss: 0.1174 - acc: 0.9568 - val_loss: 1.0771 - val_acc: 0.8060\n",
            "Epoch 20/20\n",
            "7982/7982 [==============================] - 1s 115us/step - loss: 0.1124 - acc: 0.9570 - val_loss: 1.0717 - val_acc: 0.8050\n"
          ],
          "name": "stdout"
        }
      ]
    },
    {
      "cell_type": "code",
      "metadata": {
        "id": "u1AZLer9lRAu",
        "colab_type": "code",
        "colab": {
          "base_uri": "https://localhost:8080/",
          "height": 295
        },
        "outputId": "6290e14f-ecd1-4f03-833f-29aeecb73559"
      },
      "source": [
        "import matplotlib.pyplot as plt\n",
        "\n",
        "loss = history.history['loss']\n",
        "val_loss = history.history['val_loss']\n",
        "\n",
        "epochs = range(1, len(loss) + 1)\n",
        "\n",
        "plt.plot(epochs, loss, 'bo', label='Training Loss')\n",
        "plt.plot(epochs, val_loss, 'b', label='Validation Loss')\n",
        "plt.title('Training and Validation Losses')\n",
        "plt.xlabel('Epochs')\n",
        "plt.ylabel('Loss')\n",
        "plt.legend()\n",
        "\n",
        "plt.show()"
      ],
      "execution_count": 19,
      "outputs": [
        {
          "output_type": "display_data",
          "data": {
            "image/png": "[encoded data removed]",
            "text/plain": [
              "<Figure size 432x288 with 1 Axes>"
            ]
          },
          "metadata": {
            "tags": [],
            "needs_background": "light"
          }
        }
      ]
    },
    {
      "cell_type": "code",
      "metadata": {
        "id": "VMJhlvePmME0",
        "colab_type": "code",
        "colab": {
          "base_uri": "https://localhost:8080/",
          "height": 295
        },
        "outputId": "700e3f65-e4b8-4a0f-d888-a8fce83a7426"
      },
      "source": [
        "plt.clf()\n",
        "\n",
        "acc = history.history['acc']\n",
        "val_acc = history.history['val_acc']\n",
        "\n",
        "epochs = range(1, len(acc) + 1)\n",
        "\n",
        "plt.plot(epochs, acc, 'ro', label='Training Accuracy')\n",
        "plt.plot(epochs, val_acc, 'r', label='Validation Accuracy')\n",
        "plt.title('Training and Validation Accuracy')\n",
        "plt.xlabel('Epochs')\n",
        "plt.ylabel('Accuracy')\n",
        "plt.legend()\n",
        "\n",
        "plt.show()"
      ],
      "execution_count": 20,
      "outputs": [
        {
          "output_type": "display_data",
          "data": {
            "image/png": "[encoded data removed]",
            "text/plain": [
              "<Figure size 432x288 with 1 Axes>"
            ]
          },
          "metadata": {
            "tags": [],
            "needs_background": "light"
          }
        }
      ]
    },
    {
      "cell_type": "code",
      "metadata": {
        "id": "Yb7c5s3wm2dv",
        "colab_type": "code",
        "colab": {
          "base_uri": "https://localhost:8080/",
          "height": 364
        },
        "outputId": "7fc34b7a-a403-435f-edf6-627ed2d5773b"
      },
      "source": [
        "model = models.Sequential()\n",
        "model.add(layers.Dense(64, activation='relu', input_shape=(10000,)))\n",
        "model.add(layers.Dense(64, activation='relu'))\n",
        "model.add(layers.Dense(46, activation='softmax'))\n",
        "\n",
        "model.compile(optimizer='rmsprop',\n",
        "              loss='categorical_crossentropy',\n",
        "              metrics=['acc'])\n",
        "model.fit(partial_x_train,\n",
        "          partial_y_train,\n",
        "          epochs=9,\n",
        "          batch_size=512,\n",
        "          validation_data=[x_val, y_val])\n",
        "\n",
        "results = model.evaluate(x_test, y_test)"
      ],
      "execution_count": 21,
      "outputs": [
        {
          "output_type": "stream",
          "text": [
            "Train on 7982 samples, validate on 1000 samples\n",
            "Epoch 1/9\n",
            "7982/7982 [==============================] - 1s 131us/step - loss: 2.7365 - acc: 0.4907 - val_loss: 1.8245 - val_acc: 0.6440\n",
            "Epoch 2/9\n",
            "7982/7982 [==============================] - 1s 115us/step - loss: 1.4725 - acc: 0.7015 - val_loss: 1.3394 - val_acc: 0.7250\n",
            "Epoch 3/9\n",
            "7982/7982 [==============================] - 1s 114us/step - loss: 1.0755 - acc: 0.7769 - val_loss: 1.1510 - val_acc: 0.7590\n",
            "Epoch 4/9\n",
            "7982/7982 [==============================] - 1s 114us/step - loss: 0.8490 - acc: 0.8222 - val_loss: 1.0625 - val_acc: 0.7810\n",
            "Epoch 5/9\n",
            "7982/7982 [==============================] - 1s 116us/step - loss: 0.6813 - acc: 0.8572 - val_loss: 1.0062 - val_acc: 0.7860\n",
            "Epoch 6/9\n",
            "7982/7982 [==============================] - 1s 114us/step - loss: 0.5490 - acc: 0.8854 - val_loss: 0.9530 - val_acc: 0.7920\n",
            "Epoch 7/9\n",
            "7982/7982 [==============================] - 1s 115us/step - loss: 0.4398 - acc: 0.9105 - val_loss: 0.9067 - val_acc: 0.8110\n",
            "Epoch 8/9\n",
            "7982/7982 [==============================] - 1s 116us/step - loss: 0.3567 - acc: 0.9253 - val_loss: 0.9041 - val_acc: 0.8150\n",
            "Epoch 9/9\n",
            "7982/7982 [==============================] - 1s 115us/step - loss: 0.2944 - acc: 0.9375 - val_loss: 0.8958 - val_acc: 0.8230\n",
            "2246/2246 [==============================] - 0s 80us/step\n"
          ],
          "name": "stdout"
        }
      ]
    },
    {
      "cell_type": "code",
      "metadata": {
        "id": "hr-HpHEnn2OZ",
        "colab_type": "code",
        "colab": {
          "base_uri": "https://localhost:8080/",
          "height": 35
        },
        "outputId": "3f62e009-4870-4281-d4c3-b3f5f6e522aa"
      },
      "source": [
        "results"
      ],
      "execution_count": 22,
      "outputs": [
        {
          "output_type": "execute_result",
          "data": {
            "text/plain": [
              "[0.9775136215603999, 0.7902938723564148]"
            ]
          },
          "metadata": {
            "tags": []
          },
          "execution_count": 22
        }
      ]
    },
    {
      "cell_type": "code",
      "metadata": {
        "id": "y_g1hP_Mn4yC",
        "colab_type": "code",
        "colab": {
          "base_uri": "https://localhost:8080/",
          "height": 35
        },
        "outputId": "16c2448c-e54a-4789-9aca-3b8782a1a419"
      },
      "source": [
        "import copy\n",
        "test_labels_copy = copy.copy(test_labels)\n",
        "np.random.shuffle(test_labels_copy)\n",
        "hits_array = np.array(test_labels) == np.array(test_labels_copy)\n",
        "float(np.sum(hits_array)) / len(test_labels)"
      ],
      "execution_count": 23,
      "outputs": [
        {
          "output_type": "execute_result",
          "data": {
            "text/plain": [
              "0.19456812110418523"
            ]
          },
          "metadata": {
            "tags": []
          },
          "execution_count": 23
        }
      ]
    },
    {
      "cell_type": "code",
      "metadata": {
        "id": "wZKsiv_BofhF",
        "colab_type": "code",
        "colab": {
          "base_uri": "https://localhost:8080/",
          "height": 35
        },
        "outputId": "37602392-dfcf-4d9c-f817-25ad682d8fd3"
      },
      "source": [
        "predictions = model.predict(x_test)\n",
        "\n",
        "predictions[0].shape"
      ],
      "execution_count": 24,
      "outputs": [
        {
          "output_type": "execute_result",
          "data": {
            "text/plain": [
              "(46,)"
            ]
          },
          "metadata": {
            "tags": []
          },
          "execution_count": 24
        }
      ]
    },
    {
      "cell_type": "code",
      "metadata": {
        "id": "Ov3vjBUporPC",
        "colab_type": "code",
        "colab": {
          "base_uri": "https://localhost:8080/",
          "height": 35
        },
        "outputId": "3f732254-9da7-43b5-a55d-11aa96932df0"
      },
      "source": [
        "np.sum(predictions[0])"
      ],
      "execution_count": 25,
      "outputs": [
        {
          "output_type": "execute_result",
          "data": {
            "text/plain": [
              "1.0"
            ]
          },
          "metadata": {
            "tags": []
          },
          "execution_count": 25
        }
      ]
    },
    {
      "cell_type": "code",
      "metadata": {
        "id": "oWZqlgHnotIM",
        "colab_type": "code",
        "colab": {
          "base_uri": "https://localhost:8080/",
          "height": 35
        },
        "outputId": "64002cd9-acdc-40d8-d642-83541e5edefa"
      },
      "source": [
        "np.argmax(predictions[0])"
      ],
      "execution_count": 26,
      "outputs": [
        {
          "output_type": "execute_result",
          "data": {
            "text/plain": [
              "3"
            ]
          },
          "metadata": {
            "tags": []
          },
          "execution_count": 26
        }
      ]
    },
    {
      "cell_type": "code",
      "metadata": {
        "id": "mmRUQSH4oxVN",
        "colab_type": "code",
        "colab": {}
      },
      "source": [
        "# Casting the labels as integer tensors instead of one-hot encoding\n",
        "\n",
        "y_train = np.array(train_labels)\n",
        "y_test = np.array(test_labels)\n",
        "\n",
        "# Use sparse_cateogrical_crossentropy in this case\n",
        "model.compile(optimizer='rmsprop',\n",
        "              loss='sparse_categorical_crossentropy',\n",
        "              metrics=['acc'])"
      ],
      "execution_count": 0,
      "outputs": []
    },
    {
      "cell_type": "code",
      "metadata": {
        "id": "PBNsxgsZpdm-",
        "colab_type": "code",
        "colab": {
          "base_uri": "https://localhost:8080/",
          "height": 728
        },
        "outputId": "d4b00d7f-44a5-460c-bd28-95f3f8949fc0"
      },
      "source": [
        "# Using hidden layers with number of hidden units lesser than that of the output layer\n",
        "\n",
        "model = models.Sequential()\n",
        "model.add(layers.Dense(64, activation='relu', input_shape=(10000,)))\n",
        "model.add(layers.Dense(4, activation='relu'))\n",
        "model.add(layers.Dense(46, activation='softmax'))\n",
        "\n",
        "model.compile(optimizer='rmsprop',\n",
        "              loss='categorical_crossentropy',\n",
        "              metrics=['acc'])\n",
        "\n",
        "history = model.fit(partial_x_train,\n",
        "                    partial_y_train,\n",
        "                    epochs=20,\n",
        "                    batch_size=512,\n",
        "                    validation_data=[x_val, y_val])"
      ],
      "execution_count": 31,
      "outputs": [
        {
          "output_type": "stream",
          "text": [
            "Train on 7982 samples, validate on 1000 samples\n",
            "Epoch 1/20\n",
            "7982/7982 [==============================] - 1s 162us/step - loss: 3.5437 - acc: 0.0833 - val_loss: 3.2039 - val_acc: 0.3360\n",
            "Epoch 2/20\n",
            "7982/7982 [==============================] - 1s 117us/step - loss: 2.9378 - acc: 0.3727 - val_loss: 2.7030 - val_acc: 0.3870\n",
            "Epoch 3/20\n",
            "7982/7982 [==============================] - 1s 115us/step - loss: 2.4270 - acc: 0.4747 - val_loss: 2.2887 - val_acc: 0.5210\n",
            "Epoch 4/20\n",
            "7982/7982 [==============================] - 1s 116us/step - loss: 2.0414 - acc: 0.5710 - val_loss: 2.0118 - val_acc: 0.5640\n",
            "Epoch 5/20\n",
            "7982/7982 [==============================] - 1s 115us/step - loss: 1.7730 - acc: 0.6067 - val_loss: 1.8414 - val_acc: 0.5690\n",
            "Epoch 6/20\n",
            "7982/7982 [==============================] - 1s 114us/step - loss: 1.5926 - acc: 0.6155 - val_loss: 1.7239 - val_acc: 0.5770\n",
            "Epoch 7/20\n",
            "7982/7982 [==============================] - 1s 115us/step - loss: 1.4681 - acc: 0.6189 - val_loss: 1.6516 - val_acc: 0.5870\n",
            "Epoch 8/20\n",
            "7982/7982 [==============================] - 1s 115us/step - loss: 1.3693 - acc: 0.6240 - val_loss: 1.5799 - val_acc: 0.5910\n",
            "Epoch 9/20\n",
            "7982/7982 [==============================] - 1s 114us/step - loss: 1.2833 - acc: 0.6343 - val_loss: 1.5489 - val_acc: 0.5880\n",
            "Epoch 10/20\n",
            "7982/7982 [==============================] - 1s 115us/step - loss: 1.2030 - acc: 0.6465 - val_loss: 1.4981 - val_acc: 0.6010\n",
            "Epoch 11/20\n",
            "7982/7982 [==============================] - 1s 115us/step - loss: 1.1292 - acc: 0.6713 - val_loss: 1.4657 - val_acc: 0.6160\n",
            "Epoch 12/20\n",
            "7982/7982 [==============================] - 1s 115us/step - loss: 1.0576 - acc: 0.6901 - val_loss: 1.4262 - val_acc: 0.6400\n",
            "Epoch 13/20\n",
            "7982/7982 [==============================] - 1s 116us/step - loss: 0.9948 - acc: 0.7284 - val_loss: 1.4176 - val_acc: 0.6730\n",
            "Epoch 14/20\n",
            "7982/7982 [==============================] - 1s 116us/step - loss: 0.9381 - acc: 0.7615 - val_loss: 1.3867 - val_acc: 0.6740\n",
            "Epoch 15/20\n",
            "7982/7982 [==============================] - 1s 116us/step - loss: 0.8850 - acc: 0.7694 - val_loss: 1.4275 - val_acc: 0.6630\n",
            "Epoch 16/20\n",
            "7982/7982 [==============================] - 1s 116us/step - loss: 0.8405 - acc: 0.7737 - val_loss: 1.3795 - val_acc: 0.6900\n",
            "Epoch 17/20\n",
            "7982/7982 [==============================] - 1s 115us/step - loss: 0.7995 - acc: 0.7844 - val_loss: 1.3753 - val_acc: 0.6950\n",
            "Epoch 18/20\n",
            "7982/7982 [==============================] - 1s 115us/step - loss: 0.7633 - acc: 0.8001 - val_loss: 1.3879 - val_acc: 0.6950\n",
            "Epoch 19/20\n",
            "7982/7982 [==============================] - 1s 115us/step - loss: 0.7291 - acc: 0.8103 - val_loss: 1.3912 - val_acc: 0.7000\n",
            "Epoch 20/20\n",
            "7982/7982 [==============================] - 1s 116us/step - loss: 0.6998 - acc: 0.8220 - val_loss: 1.3934 - val_acc: 0.7090\n"
          ],
          "name": "stdout"
        }
      ]
    },
    {
      "cell_type": "code",
      "metadata": {
        "id": "p3rq3rwfqLaj",
        "colab_type": "code",
        "colab": {
          "base_uri": "https://localhost:8080/",
          "height": 265
        },
        "outputId": "66340c79-8c1e-4569-f4f3-d1d08ecde8de"
      },
      "source": [
        "plt.clf()\n",
        "\n",
        "loss = history.history['loss']\n",
        "val_loss = history.history['val_loss']\n",
        "acc = history.history['acc']\n",
        "val_acc = history.history['val_acc']\n",
        "\n",
        "epochs = range(1, len(acc) + 1)\n",
        "\n",
        "plt.plot(epochs, loss, 'bo', label='Training Loss')\n",
        "plt.plot(epochs, val_loss, 'b', label='Validation Loss')\n",
        "plt.plot(epochs, acc, 'ro', label='Training Accuracy')\n",
        "plt.plot(epochs, val_acc, 'r', label='Validation Accuracy')\n",
        "\n",
        "plt.legend()\n",
        "\n",
        "plt.show()"
      ],
      "execution_count": 33,
      "outputs": [
        {
          "output_type": "display_data",
          "data": {
            "image/png": "[encoded data removed]",
            "text/plain": [
              "<Figure size 432x288 with 1 Axes>"
            ]
          },
          "metadata": {
            "tags": [],
            "needs_background": "light"
          }
        }
      ]
    },
    {
      "cell_type": "code",
      "metadata": {
        "id": "MUyBDoQfq0eb",
        "colab_type": "code",
        "colab": {}
      },
      "source": [
        ""
      ],
      "execution_count": 0,
      "outputs": []
    }
  ]
}